{
 "cells": [
  {
   "cell_type": "code",
   "execution_count": 3,
   "metadata": {
    "collapsed": true
   },
   "outputs": [],
   "source": [
    "import numpy as np"
   ]
  },
  {
   "cell_type": "code",
   "execution_count": 4,
   "metadata": {
    "collapsed": true
   },
   "outputs": [],
   "source": [
    "class Network(object):\n",
    "    \n",
    "    def __init__(self,sizes):\n",
    "        self.num_layers = len(sizes)\n",
    "        self.biases = [np.random.randn(y,1) for y in sizes[1:]] #trandn(x,y) x,y matrix with noraml standard distr\n",
    "        self.weights = [np.random.randn(y,x) for x,y in zip(sizes[:-1],sizes[1:])]"
   ]
  },
  {
   "cell_type": "code",
   "execution_count": 5,
   "metadata": {
    "collapsed": false
   },
   "outputs": [],
   "source": [
    "net = Network([2,3,1]) # I, H, O"
   ]
  },
  {
   "cell_type": "code",
   "execution_count": 6,
   "metadata": {
    "collapsed": false
   },
   "outputs": [
    {
     "data": {
      "text/plain": [
       "[3, 1]"
      ]
     },
     "execution_count": 6,
     "metadata": {},
     "output_type": "execute_result"
    }
   ],
   "source": [
    "sizes = [2,3,1]\n",
    "sizes[1:]"
   ]
  },
  {
   "cell_type": "code",
   "execution_count": 7,
   "metadata": {
    "collapsed": true
   },
   "outputs": [],
   "source": [
    "test = [np.random.randn(y,1) for y in sizes[1:]]"
   ]
  },
  {
   "cell_type": "code",
   "execution_count": 8,
   "metadata": {
    "collapsed": false
   },
   "outputs": [
    {
     "data": {
      "text/plain": [
       "[array([[-0.33962214],\n",
       "        [-0.38833968],\n",
       "        [-1.89967585]]), array([[-0.48694227]])]"
      ]
     },
     "execution_count": 8,
     "metadata": {},
     "output_type": "execute_result"
    }
   ],
   "source": [
    "test # total 4 biases, 3 for I to H and 1 for H to O, each bias for one out"
   ]
  },
  {
   "cell_type": "code",
   "execution_count": 23,
   "metadata": {
    "collapsed": false
   },
   "outputs": [
    {
     "data": {
      "text/plain": [
       "[2, 3]"
      ]
     },
     "execution_count": 23,
     "metadata": {},
     "output_type": "execute_result"
    }
   ],
   "source": [
    "sizes[:-1]"
   ]
  },
  {
   "cell_type": "code",
   "execution_count": 24,
   "metadata": {
    "collapsed": false
   },
   "outputs": [
    {
     "data": {
      "text/plain": [
       "[(3, 2), (1, 3)]"
      ]
     },
     "execution_count": 24,
     "metadata": {},
     "output_type": "execute_result"
    }
   ],
   "source": [
    "[(y,x) for x,y in zip(sizes[:-1],sizes[1:])]"
   ]
  },
  {
   "cell_type": "code",
   "execution_count": 18,
   "metadata": {
    "collapsed": true
   },
   "outputs": [],
   "source": [
    "weights = [np.random.randn(y,x) for x,y in zip(sizes[:-1],sizes[1:])]"
   ]
  },
  {
   "cell_type": "code",
   "execution_count": 19,
   "metadata": {
    "collapsed": false
   },
   "outputs": [
    {
     "data": {
      "text/plain": [
       "[array([[-0.30426818,  0.46165773],\n",
       "        [-1.14896913,  0.05557586],\n",
       "        [ 0.36281306,  1.2813611 ]]),\n",
       " array([[-0.43470388,  0.16982938,  0.04471445]])]"
      ]
     },
     "execution_count": 19,
     "metadata": {},
     "output_type": "execute_result"
    }
   ],
   "source": [
    "weights # 2x3 from I to H, 3 x 1 from H to O"
   ]
  },
  {
   "cell_type": "code",
   "execution_count": 25,
   "metadata": {
    "collapsed": false
   },
   "outputs": [],
   "source": [
    "def sigmoid(z):\n",
    "    return 1.0/(1.0+np.exp(-z))"
   ]
  },
  {
   "cell_type": "code",
   "execution_count": null,
   "metadata": {
    "collapsed": false
   },
   "outputs": [],
   "source": [
    "def feedforward(self,a):\n",
    "    for b,w in zip(self.biases,self.weights):\n",
    "        a=sigmoid(np.dot(w,a)+b) # not element wise; still vectorized\n",
    "    return a"
   ]
  },
  {
   "cell_type": "code",
   "execution_count": 27,
   "metadata": {
    "collapsed": false
   },
   "outputs": [
    {
     "data": {
      "text/plain": [
       "[(array([[-0.70737831],\n",
       "         [ 0.47151407],\n",
       "         [ 1.21203804]]), array([[-1.13917229, -0.16980475],\n",
       "         [ 0.98844458, -0.77894872],\n",
       "         [-1.51859318,  1.52514413]])),\n",
       " (array([[ 1.19407097]]), array([[ 0.15218273,  1.77546301, -1.20578639]]))]"
      ]
     },
     "execution_count": 27,
     "metadata": {},
     "output_type": "execute_result"
    }
   ],
   "source": [
    "[(b,w) for b,w in zip(net.biases,net.weights)]"
   ]
  },
  {
   "cell_type": "code",
   "execution_count": 29,
   "metadata": {
    "collapsed": false
   },
   "outputs": [],
   "source": [
    "x = np.array([[1],[2],[3]])\n",
    "y = np.array([[4,5],[6,7],[8,9]])"
   ]
  },
  {
   "cell_type": "code",
   "execution_count": 30,
   "metadata": {
    "collapsed": false
   },
   "outputs": [
    {
     "data": {
      "text/plain": [
       "[(array([1]), array([4, 5])),\n",
       " (array([2]), array([6, 7])),\n",
       " (array([3]), array([8, 9]))]"
      ]
     },
     "execution_count": 30,
     "metadata": {},
     "output_type": "execute_result"
    }
   ],
   "source": [
    "[(a,b) for a,b in zip(x,y)]"
   ]
  },
  {
   "cell_type": "code",
   "execution_count": 32,
   "metadata": {
    "collapsed": false
   },
   "outputs": [],
   "source": [
    "def SGD(self,training_data,epochs,mini_batch_size,eta,test_data=None):\n",
    "    if test_data:\n",
    "        n_test = len(test_data)\n",
    "    n= len(training_data)\n",
    "    for j in xrange(epochs):\n",
    "        random.shuffle(training_data)\n",
    "        mini_batches = [training_data[k:k+mini_batch_size]\n",
    "                        for k in xrange(0,n,mini_batch_size)]\n",
    "        for mini_batch in mini_batches:\n",
    "            self.update_mini_batch(mini_batch,eta)\n",
    "        if test_data:\n",
    "            print(\"Epoch {0}: {1}/{2}\".format(j,self.evaluate(test_data),n_test))\n",
    "        else:\n",
    "            print(\"Epoch {0} complete\".format(j))"
   ]
  },
  {
   "cell_type": "code",
   "execution_count": 34,
   "metadata": {
    "collapsed": true
   },
   "outputs": [],
   "source": [
    "def update_mini_batch(self,mini_batch,eta):\n",
    "    nable_b = [np.zeros(b.shape) for b in self.biases]\n",
    "    nabla_w = [np.zeros(w.shape) for w in self.weights]\n",
    "    for x,y in mini_batch:\n",
    "        delta_nabla_b,delta_nabla_w = self.backprop(x,y)\n",
    "        nabla_b = [nb+dnb for nb,dnb in zip(nabla_b,delta_nabla_b)]\n",
    "        nabla_w = [nw+dnw for nw,dnw in zip(nabla_w,delta_nabla_w)]\n",
    "    self.weights = [w-(eta/len(mini_batch))*nw\n",
    "                   for w,nw in zip(self.weights,nw)] \n",
    "    self.biases = [b-(eta/len(mini_batch))*nb\n",
    "                   for b,nb in zip(self.biases,nabla_b)]"
   ]
  },
  {
   "cell_type": "code",
   "execution_count": null,
   "metadata": {
    "collapsed": true
   },
   "outputs": [],
   "source": []
  }
 ],
 "metadata": {
  "kernelspec": {
   "display_name": "Python 3",
   "language": "python",
   "name": "python3"
  },
  "language_info": {
   "codemirror_mode": {
    "name": "ipython",
    "version": 3
   },
   "file_extension": ".py",
   "mimetype": "text/x-python",
   "name": "python",
   "nbconvert_exporter": "python",
   "pygments_lexer": "ipython3",
   "version": "3.6.0"
  }
 },
 "nbformat": 4,
 "nbformat_minor": 2
}
